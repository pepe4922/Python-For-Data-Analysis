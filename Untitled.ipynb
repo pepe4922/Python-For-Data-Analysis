{
 "cells": [
  {
   "cell_type": "code",
   "execution_count": 2,
   "id": "910d20f2",
   "metadata": {
    "scrolled": true
   },
   "outputs": [
    {
     "name": "stdout",
     "output_type": "stream",
     "text": [
      "Hello world\n"
     ]
    }
   ],
   "source": [
    "print (\"Hello world\")"
   ]
  },
  {
   "cell_type": "markdown",
   "id": "206284fe",
   "metadata": {},
   "source": [
    "# LIST DATATYPE IN Python\n",
    "A type of datatype in python which is mutable,ordered and allow duplicate values.\n",
    "\n",
    "1.Mutable means changeable.\n",
    "2.Ordered means that if you add new items in list it will always be after the already added item.\n",
    "3. Duplicate values can be added.\n",
    "\n",
    "\n",
    " \n",
    "\n"
   ]
  },
  {
   "cell_type": "code",
   "execution_count": null,
   "id": "95963066",
   "metadata": {},
   "outputs": [],
   "source": [
    "names=[\"James\",\"Jake\",\"Mary\",\"Hannah\"]\n",
    "\n",
    "print (names) #print the names as ordered list\n",
    "\n",
    "names.append(\"Dany\") #append function adds the value in the list at the end because list is an ordered datatype\n",
    "\n",
    "print(names)\n",
    "\n",
    "age = [\"23\",\"34\",\"37\"]\n",
    "\n",
    "names =[\"James\",\"Jake\",age,\"Mary\",\"Hannah\"] # adding a list inside a list as you can have different data type in the list\n",
    "\n",
    "print (names[0:]) #forward order to get the list printed\n",
    "\n",
    "print (names[-5:]) # reverse order to get the list printed\n",
    "\n",
    "names.insert (1,\"Kenny\") # insert method is used to insert a value at a specific index and it insert the value at the desired index rather than replacing the value at that index\n",
    "\n",
    "names.remove (\"James\") # remove method is used to reomve the value by giving the value in the round bracket and it takes only 1 argument\n",
    "\n",
    "names.pop(1) # removes the element at the index which is passed\n",
    "\n",
    "popped=names.pop () # if no index is passed then last element is deleted and pop method also stores the value which you can store in any other variable and print\n",
    "\n",
    "print (popped)\n",
    "print (names)\n",
    "\n"
   ]
  },
  {
   "cell_type": "code",
   "execution_count": 47,
   "id": "a3c8dc66",
   "metadata": {},
   "outputs": [
    {
     "name": "stdout",
     "output_type": "stream",
     "text": [
      "['BMW', 'Ford', 'Mercedes', 'Range Rover']\n",
      "['Range Rover', 'Mercedes', 'Ford', 'BMW']\n"
     ]
    }
   ],
   "source": [
    "#sort method in List\n",
    "\n",
    "cars = [\"BMW\",\"Mercedes\",\"Range Rover\",\"Ford\"]\n",
    "\n",
    "cars.sort()\n",
    "print (cars)\n",
    "#sort function returns the list in ascending order by default.\n",
    "\n",
    "#if you want to return the list in descending order then you have to use the (reverse=True) inside the sort function\n",
    "cars.sort(reverse=True)\n",
    "\n",
    "print (cars)"
   ]
  },
  {
   "cell_type": "code",
   "execution_count": 55,
   "id": "76753e2a",
   "metadata": {},
   "outputs": [],
   "source": [
    "# try to change an element\n",
    "fruits = ('Mango','avocado','Banana','Mango')"
   ]
  },
  {
   "cell_type": "code",
   "execution_count": null,
   "id": "33866ad8",
   "metadata": {},
   "outputs": [],
   "source": [
    "# Tuple has 2 methods count and Index\n",
    "\n",
    "# Count Returns the number of times a specified value occurs in a tuple\n",
    "# Index Searches the tuple for a specified value and returns the position of where it was found"
   ]
  },
  {
   "cell_type": "code",
   "execution_count": 56,
   "id": "40f5f24a",
   "metadata": {
    "scrolled": true
   },
   "outputs": [
    {
     "name": "stdout",
     "output_type": "stream",
     "text": [
      "2\n",
      "1\n"
     ]
    }
   ],
   "source": [
    "print(fruits.count('Mango'))\n",
    "print (fruits.index ('avocado'))"
   ]
  },
  {
   "cell_type": "code",
   "execution_count": null,
   "id": "7f11aae7",
   "metadata": {},
   "outputs": [],
   "source": []
  }
 ],
 "metadata": {
  "kernelspec": {
   "display_name": "Python 3 (ipykernel)",
   "language": "python",
   "name": "python3"
  },
  "language_info": {
   "codemirror_mode": {
    "name": "ipython",
    "version": 3
   },
   "file_extension": ".py",
   "mimetype": "text/x-python",
   "name": "python",
   "nbconvert_exporter": "python",
   "pygments_lexer": "ipython3",
   "version": "3.9.13"
  }
 },
 "nbformat": 4,
 "nbformat_minor": 5
}
